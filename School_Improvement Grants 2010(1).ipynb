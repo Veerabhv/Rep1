{
 "cells": [
  {
   "cell_type": "code",
   "execution_count": 2,
   "metadata": {},
   "outputs": [],
   "source": [
    "with open(\"userssharedsdfschoolimprovement2010grants.csv\",\"r\")as f:\n",
    "    data=f.readlines()\n"
   ]
  },
  {
   "cell_type": "code",
   "execution_count": 3,
   "metadata": {},
   "outputs": [
    {
     "data": {
      "text/plain": [
       "list"
      ]
     },
     "execution_count": 3,
     "metadata": {},
     "output_type": "execute_result"
    }
   ],
   "source": [
    "type(data)"
   ]
  },
  {
   "cell_type": "code",
   "execution_count": 4,
   "metadata": {},
   "outputs": [
    {
     "data": {
      "text/plain": [
       "'School Name,City,State,District Name,2010/11/Award Amount,Model Selected,Location\\n'"
      ]
     },
     "execution_count": 4,
     "metadata": {},
     "output_type": "execute_result"
    }
   ],
   "source": [
    "data[0]"
   ]
  },
  {
   "cell_type": "code",
   "execution_count": 5,
   "metadata": {},
   "outputs": [
    {
     "data": {
      "text/plain": [
       "831.0"
      ]
     },
     "execution_count": 5,
     "metadata": {},
     "output_type": "execute_result"
    }
   ],
   "source": [
    "(len(data)-1)/3"
   ]
  },
  {
   "cell_type": "markdown",
   "metadata": {},
   "source": [
    "File has 3 lines of data per school. First line is header. There is data for 831 schools in the file."
   ]
  },
  {
   "cell_type": "code",
   "execution_count": 6,
   "metadata": {},
   "outputs": [],
   "source": [
    "columns=data[0]"
   ]
  },
  {
   "cell_type": "code",
   "execution_count": 7,
   "metadata": {},
   "outputs": [
    {
     "data": {
      "text/plain": [
       "'School Name,City,State,District Name,2010/11/Award Amount,Model Selected,Location\\n'"
      ]
     },
     "execution_count": 7,
     "metadata": {},
     "output_type": "execute_result"
    }
   ],
   "source": [
    "columns"
   ]
  },
  {
   "cell_type": "markdown",
   "metadata": {},
   "source": [
    "Pick a small portion of the data to develop codes- say 5 schools = 15 lines + 1 header line. PYTHON STARTS WITH lINE 0."
   ]
  },
  {
   "cell_type": "code",
   "execution_count": 8,
   "metadata": {},
   "outputs": [
    {
     "data": {
      "text/plain": [
       "['School Name,City,State,District Name,2010/11/Award Amount,Model Selected,Location\\n',\n",
       " 'HOGARTH KINGEEKUK MEMORIAL SCHOOL,SAVOONGA,AK,BERING STRAIT SCHOOL DISTRICT,$471014.00,Transformation,\"200 MAIN ST\\n',\n",
       " 'SAVOONGA, AK 99769\\n',\n",
       " '(63.6687, -170.603)\"\\n',\n",
       " 'AKIACHAK SCHOOL,AKIACHAK,AK,YUPIIT SCHOOL DISTRICT,$520579.00,Transformation,\"AKIACHAK 51100\\n',\n",
       " 'AKIACHAK, AK 99551\\n',\n",
       " '(60.8911, -161.376)\"\\n',\n",
       " 'GAMBELL SCHOOL,GAMBELL,AK,BERING STRAIT SCHOOL DISTRICT,$449592.00,Transformation,\"169 MAIN ST\\n',\n",
       " 'GAMBELL, AK 99742\\n',\n",
       " '(63.7413, -171.689)\"\\n',\n",
       " 'BURCHELL HIGH SCHOOL,WASILLA,AK,MATANUSKA-SUSITNA BOROUGH SCHOOL DISTRICT,$641184.00,Transformation,\"1775 WEST PARKS HWY\\n',\n",
       " 'WASILLA, AK 99654\\n',\n",
       " '(61.5794, -149.495)\"\\n',\n",
       " 'AKIAK SCHOOL,AKIAK,AK,YUPIIT SCHOOL DISTRICT,$399686.00,Transformation,\"AKIAK 5227\\n',\n",
       " 'AKIAK, AK 99552\\n',\n",
       " '(60.8879, -161.2)\"\\n']"
      ]
     },
     "execution_count": 8,
     "metadata": {},
     "output_type": "execute_result"
    }
   ],
   "source": [
    "data[0:16]"
   ]
  },
  {
   "cell_type": "code",
   "execution_count": 9,
   "metadata": {},
   "outputs": [
    {
     "data": {
      "text/plain": [
       "['HOGARTH KINGEEKUK MEMORIAL SCHOOL,SAVOONGA,AK,BERING STRAIT SCHOOL DISTRICT,$471014.00,Transformation,\"200 MAIN ST\\n',\n",
       " 'AKIACHAK SCHOOL,AKIACHAK,AK,YUPIIT SCHOOL DISTRICT,$520579.00,Transformation,\"AKIACHAK 51100\\n',\n",
       " 'GAMBELL SCHOOL,GAMBELL,AK,BERING STRAIT SCHOOL DISTRICT,$449592.00,Transformation,\"169 MAIN ST\\n',\n",
       " 'BURCHELL HIGH SCHOOL,WASILLA,AK,MATANUSKA-SUSITNA BOROUGH SCHOOL DISTRICT,$641184.00,Transformation,\"1775 WEST PARKS HWY\\n',\n",
       " 'AKIAK SCHOOL,AKIAK,AK,YUPIIT SCHOOL DISTRICT,$399686.00,Transformation,\"AKIAK 5227\\n']"
      ]
     },
     "execution_count": 9,
     "metadata": {},
     "output_type": "execute_result"
    }
   ],
   "source": [
    "data[1:16:3]"
   ]
  },
  {
   "cell_type": "markdown",
   "metadata": {},
   "source": [
    "By reading every third line, starting from second line,we can isolate the record for five schools in line 1 of 3 the smaller set. The number of schools can be verified with len command."
   ]
  },
  {
   "cell_type": "code",
   "execution_count": 10,
   "metadata": {},
   "outputs": [
    {
     "data": {
      "text/plain": [
       "5"
      ]
     },
     "execution_count": 10,
     "metadata": {},
     "output_type": "execute_result"
    }
   ],
   "source": [
    "len (data[1:16:3])"
   ]
  },
  {
   "cell_type": "code",
   "execution_count": 11,
   "metadata": {},
   "outputs": [
    {
     "data": {
      "text/plain": [
       "['SAVOONGA, AK 99769\\n',\n",
       " 'AKIACHAK, AK 99551\\n',\n",
       " 'GAMBELL, AK 99742\\n',\n",
       " 'WASILLA, AK 99654\\n',\n",
       " 'AKIAK, AK 99552\\n']"
      ]
     },
     "execution_count": 11,
     "metadata": {},
     "output_type": "execute_result"
    }
   ],
   "source": [
    "data[2:16:3]"
   ]
  },
  {
   "cell_type": "markdown",
   "metadata": {},
   "source": [
    "By reading every third line, starting from third line,we can isolate the record for five schools in line 2 of 3 the smaller set."
   ]
  },
  {
   "cell_type": "code",
   "execution_count": 12,
   "metadata": {},
   "outputs": [
    {
     "data": {
      "text/plain": [
       "['(63.6687, -170.603)\"\\n',\n",
       " '(60.8911, -161.376)\"\\n',\n",
       " '(63.7413, -171.689)\"\\n',\n",
       " '(61.5794, -149.495)\"\\n',\n",
       " '(60.8879, -161.2)\"\\n']"
      ]
     },
     "execution_count": 12,
     "metadata": {},
     "output_type": "execute_result"
    }
   ],
   "source": [
    "data[3:16:3]"
   ]
  },
  {
   "cell_type": "markdown",
   "metadata": {},
   "source": [
    "By reading every third line, starting from fourth line,we can isolate the record for five schools in line 3 of 3 the smaller set. These 3 commands isolate the data in the 3 lines for each school. Now we combine the data using zip method. Also the 3 lines can be combined in to one by replacing the \\n (new line) charecters with a blank space. "
   ]
  },
  {
   "cell_type": "code",
   "execution_count": 13,
   "metadata": {},
   "outputs": [],
   "source": [
    "records = []\n",
    "\n",
    "for part1, part2, part3 in zip(data[1:16:3],data[2:16:3],data[3:16:3]):\n",
    "    record=(part1+part2+part3)\n",
    "    record=record.replace(\"\\n\",\"\")\n",
    "    records.append(record)\n"
   ]
  },
  {
   "cell_type": "code",
   "execution_count": 14,
   "metadata": {},
   "outputs": [
    {
     "data": {
      "text/plain": [
       "5"
      ]
     },
     "execution_count": 14,
     "metadata": {},
     "output_type": "execute_result"
    }
   ],
   "source": [
    "len(records)"
   ]
  },
  {
   "cell_type": "code",
   "execution_count": 15,
   "metadata": {},
   "outputs": [],
   "source": [
    "records = []\n",
    "\n",
    "for part1, part2, part3 in zip(data[1::3],data[2::3],data[3::3]):\n",
    "    record=(part1+part2+part3)\n",
    "    record=record.replace(\"\\n\",\"\")\n",
    "    records.append(record)"
   ]
  },
  {
   "cell_type": "code",
   "execution_count": 16,
   "metadata": {},
   "outputs": [
    {
     "data": {
      "text/plain": [
       "831"
      ]
     },
     "execution_count": 16,
     "metadata": {},
     "output_type": "execute_result"
    }
   ],
   "source": [
    "len(records)"
   ]
  },
  {
   "cell_type": "code",
   "execution_count": 17,
   "metadata": {},
   "outputs": [
    {
     "name": "stdout",
     "output_type": "stream",
     "text": [
      "HOGARTH KINGEEKUK MEMORIAL SCHOOL,SAVOONGA,AK,BERING STRAIT SCHOOL DISTRICT,$471014.00,Transformation,\"200 MAIN STSAVOONGA, AK 99769(63.6687, -170.603)\"\n",
      "AKIACHAK SCHOOL,AKIACHAK,AK,YUPIIT SCHOOL DISTRICT,$520579.00,Transformation,\"AKIACHAK 51100AKIACHAK, AK 99551(60.8911, -161.376)\"\n",
      "GAMBELL SCHOOL,GAMBELL,AK,BERING STRAIT SCHOOL DISTRICT,$449592.00,Transformation,\"169 MAIN STGAMBELL, AK 99742(63.7413, -171.689)\"\n",
      "BURCHELL HIGH SCHOOL,WASILLA,AK,MATANUSKA-SUSITNA BOROUGH SCHOOL DISTRICT,$641184.00,Transformation,\"1775 WEST PARKS HWYWASILLA, AK 99654(61.5794, -149.495)\"\n",
      "AKIAK SCHOOL,AKIAK,AK,YUPIIT SCHOOL DISTRICT,$399686.00,Transformation,\"AKIAK 5227AKIAK, AK 99552(60.8879, -161.2)\"\n",
      "MIDVALLEY HIGH,WASILLA,AK,MATANUSKA-SUSITNA BOROUGH SCHOOL DISTRICT,$697703.00,Restart,\"7362 WEST PARKS HWY 725WASILLA, AK 99654(61.5023, -149.796)\"\n",
      "TULUKSAK SCHOOL,TULUKSAK,AK,YUPIIT SCHOOL DISTRICT,$427658.00,Transformation,\"TULUKSAK 115TULUKSAK, AK 99679(61.1001, -160.961)\"\n",
      "CAPITOL HEIGHTS JR HIGH SCH,MONTGOMERY,AL,MONTGOMERY COUNTY,$110544.00,Transformation,\"116 FEDERAL DRMONTGOMERY, AL 36107(32.3821, -86.2724)\"\n",
      "LOWNDES CO MIDDLE SCH,FORT DEPOSIT,AL,LOWNDES COUNTY,$12973.00,Transformation,\"510 MONTGOMERY STFORT DEPOSIT, AL 36032(31.9948, -86.5905)\"\n",
      "CENTRAL MIDDLE SCH,ROCKFORD,AL,COOSA COUNTY,$199828.00,Transformation,\"ROUTE 2BOX 65ROCKFORD, AL 35136(32.8928, -86.1552)\"\n"
     ]
    }
   ],
   "source": [
    "for record in records[0:10]:\n",
    "    print(record)\n"
   ]
  },
  {
   "cell_type": "code",
   "execution_count": 18,
   "metadata": {},
   "outputs": [
    {
     "data": {
      "text/plain": [
       "'School Name,City,State,District Name,2010/11/Award Amount,Model Selected,Location\\n'"
      ]
     },
     "execution_count": 18,
     "metadata": {},
     "output_type": "execute_result"
    }
   ],
   "source": [
    "columns"
   ]
  },
  {
   "cell_type": "code",
   "execution_count": 19,
   "metadata": {},
   "outputs": [
    {
     "data": {
      "text/plain": [
       "'School Name,City,State,District Name,2010/11/Award Amount,Model Selected,Location'"
      ]
     },
     "execution_count": 19,
     "metadata": {},
     "output_type": "execute_result"
    }
   ],
   "source": [
    "columns.strip()"
   ]
  },
  {
   "cell_type": "markdown",
   "metadata": {},
   "source": [
    "Header line was earlier defined as Columns. This line still has the new line notation, which can be eliminated using strip(). Further, comma delimiter can be used with split() method to split the 7 items in line 1 in to 7 columns."
   ]
  },
  {
   "cell_type": "code",
   "execution_count": 20,
   "metadata": {},
   "outputs": [
    {
     "data": {
      "text/plain": [
       "['School Name',\n",
       " 'City',\n",
       " 'State',\n",
       " 'District Name',\n",
       " '2010/11/Award Amount',\n",
       " 'Model Selected',\n",
       " 'Location']"
      ]
     },
     "execution_count": 20,
     "metadata": {},
     "output_type": "execute_result"
    }
   ],
   "source": [
    "columns.strip().split(\",\")"
   ]
  },
  {
   "cell_type": "code",
   "execution_count": 21,
   "metadata": {},
   "outputs": [
    {
     "data": {
      "text/plain": [
       "7"
      ]
     },
     "execution_count": 21,
     "metadata": {},
     "output_type": "execute_result"
    }
   ],
   "source": [
    "len(columns.strip().split(\",\"))"
   ]
  },
  {
   "cell_type": "markdown",
   "metadata": {},
   "source": [
    "Using the len() method we know that the header has 7 columns. Same logic can be applied to all records."
   ]
  },
  {
   "cell_type": "code",
   "execution_count": 22,
   "metadata": {
    "scrolled": true
   },
   "outputs": [
    {
     "name": "stdout",
     "output_type": "stream",
     "text": [
      "['HOGARTH KINGEEKUK MEMORIAL SCHOOL', 'SAVOONGA', 'AK', 'BERING STRAIT SCHOOL DISTRICT', '$471014.00', 'Transformation', '\"200 MAIN STSAVOONGA', ' AK 99769(63.6687', ' -170.603)\"']\n",
      "['AKIACHAK SCHOOL', 'AKIACHAK', 'AK', 'YUPIIT SCHOOL DISTRICT', '$520579.00', 'Transformation', '\"AKIACHAK 51100AKIACHAK', ' AK 99551(60.8911', ' -161.376)\"']\n",
      "['GAMBELL SCHOOL', 'GAMBELL', 'AK', 'BERING STRAIT SCHOOL DISTRICT', '$449592.00', 'Transformation', '\"169 MAIN STGAMBELL', ' AK 99742(63.7413', ' -171.689)\"']\n",
      "['BURCHELL HIGH SCHOOL', 'WASILLA', 'AK', 'MATANUSKA-SUSITNA BOROUGH SCHOOL DISTRICT', '$641184.00', 'Transformation', '\"1775 WEST PARKS HWYWASILLA', ' AK 99654(61.5794', ' -149.495)\"']\n",
      "['AKIAK SCHOOL', 'AKIAK', 'AK', 'YUPIIT SCHOOL DISTRICT', '$399686.00', 'Transformation', '\"AKIAK 5227AKIAK', ' AK 99552(60.8879', ' -161.2)\"']\n",
      "['MIDVALLEY HIGH', 'WASILLA', 'AK', 'MATANUSKA-SUSITNA BOROUGH SCHOOL DISTRICT', '$697703.00', 'Restart', '\"7362 WEST PARKS HWY 725WASILLA', ' AK 99654(61.5023', ' -149.796)\"']\n",
      "['TULUKSAK SCHOOL', 'TULUKSAK', 'AK', 'YUPIIT SCHOOL DISTRICT', '$427658.00', 'Transformation', '\"TULUKSAK 115TULUKSAK', ' AK 99679(61.1001', ' -160.961)\"']\n",
      "['CAPITOL HEIGHTS JR HIGH SCH', 'MONTGOMERY', 'AL', 'MONTGOMERY COUNTY', '$110544.00', 'Transformation', '\"116 FEDERAL DRMONTGOMERY', ' AL 36107(32.3821', ' -86.2724)\"']\n",
      "['LOWNDES CO MIDDLE SCH', 'FORT DEPOSIT', 'AL', 'LOWNDES COUNTY', '$12973.00', 'Transformation', '\"510 MONTGOMERY STFORT DEPOSIT', ' AL 36032(31.9948', ' -86.5905)\"']\n",
      "['CENTRAL MIDDLE SCH', 'ROCKFORD', 'AL', 'COOSA COUNTY', '$199828.00', 'Transformation', '\"ROUTE 2BOX 65ROCKFORD', ' AL 35136(32.8928', ' -86.1552)\"']\n"
     ]
    }
   ],
   "source": [
    "for record in records[0:10]:\n",
    "    print(record.split(\",\"))"
   ]
  },
  {
   "cell_type": "markdown",
   "metadata": {},
   "source": [
    "Above we did a separation of columns based on comma delimited. Upon separation we whould have 7 fields of data in the recodrs as well - corresponding to the 7 columns in the header. For the header we could check the number of fields by using len() because there is only one line of data. However in the records, we know that using len() will result in 831 items."
   ]
  },
  {
   "cell_type": "code",
   "execution_count": 23,
   "metadata": {},
   "outputs": [
    {
     "data": {
      "text/plain": [
       "831"
      ]
     },
     "execution_count": 23,
     "metadata": {},
     "output_type": "execute_result"
    }
   ],
   "source": [
    "len(records)"
   ]
  },
  {
   "cell_type": "markdown",
   "metadata": {},
   "source": [
    "To verify the number of fields in each record, we can use split on comma for record."
   ]
  },
  {
   "cell_type": "code",
   "execution_count": 24,
   "metadata": {},
   "outputs": [
    {
     "data": {
      "text/plain": [
       "9"
      ]
     },
     "execution_count": 24,
     "metadata": {},
     "output_type": "execute_result"
    }
   ],
   "source": [
    "len(record.split(\",\"))\n"
   ]
  },
  {
   "cell_type": "markdown",
   "metadata": {},
   "source": [
    "we have 9 fields not seven in the sample record. We can check the entire records."
   ]
  },
  {
   "cell_type": "code",
   "execution_count": 25,
   "metadata": {},
   "outputs": [
    {
     "data": {
      "text/plain": [
       "{9, 10, 11}"
      ]
     },
     "execution_count": 25,
     "metadata": {},
     "output_type": "execute_result"
    }
   ],
   "source": [
    "fields= set()\n",
    "for record in records:\n",
    "    fields.add(len(record.split(\",\")))\n",
    "fields"
   ]
  },
  {
   "cell_type": "markdown",
   "metadata": {},
   "source": [
    "The fields item above could have been defined as a list(), but list() allows duplicates, so we would see the number of fields in each of the 831 records. By defining Sets(), we prevent duplicates and see only the number of unique field lengths over the 831 records. With list () we would use append() instead of add.\n",
    "This means, the recodrs have 3 different number of fields - 9, 10 and 11."
   ]
  },
  {
   "cell_type": "code",
   "execution_count": 26,
   "metadata": {
    "scrolled": true
   },
   "outputs": [
    {
     "data": {
      "text/plain": [
       "'ROOSEVELT HIGH SCHOOL,CASPER,WY,NATRONA COUNTY SCHOOL DISTRICT #1,$431382.00,Transformation,\"140 EAST K STCASPER, WY 82601(42.861, -106.324)\"'"
      ]
     },
     "execution_count": 26,
     "metadata": {},
     "output_type": "execute_result"
    }
   ],
   "source": [
    "record"
   ]
  },
  {
   "cell_type": "code",
   "execution_count": 27,
   "metadata": {},
   "outputs": [
    {
     "data": {
      "text/plain": [
       "['ROOSEVELT HIGH SCHOOL',\n",
       " 'CASPER',\n",
       " 'WY',\n",
       " 'NATRONA COUNTY SCHOOL DISTRICT #1',\n",
       " '$431382.00',\n",
       " 'Transformation',\n",
       " '\"140 EAST K STCASPER',\n",
       " ' WY 82601(42.861',\n",
       " ' -106.324)\"']"
      ]
     },
     "execution_count": 27,
     "metadata": {},
     "output_type": "execute_result"
    }
   ],
   "source": [
    "record.split(\",\")"
   ]
  },
  {
   "cell_type": "code",
   "execution_count": 28,
   "metadata": {},
   "outputs": [
    {
     "ename": "SyntaxError",
     "evalue": "invalid syntax (<ipython-input-28-7d0fc7b48bda>, line 1)",
     "output_type": "error",
     "traceback": [
      "\u001b[1;36m  File \u001b[1;32m\"<ipython-input-28-7d0fc7b48bda>\"\u001b[1;36m, line \u001b[1;32m1\u001b[0m\n\u001b[1;33m    Focus only on the Philadelphia School Districts.\u001b[0m\n\u001b[1;37m             ^\u001b[0m\n\u001b[1;31mSyntaxError\u001b[0m\u001b[1;31m:\u001b[0m invalid syntax\n"
     ]
    }
   ],
   "source": [
    "Focus only on the Philadelphia School Districts."
   ]
  },
  {
   "cell_type": "code",
   "execution_count": 29,
   "metadata": {},
   "outputs": [
    {
     "name": "stdout",
     "output_type": "stream",
     "text": [
      "SAYRE WILLIAM L MS,PHILADELPHIA,PA,PHILADELPHIA CITY SD,$737032.00,Transformation,\"5800 WALNUT STPHILADELPHIA, PA 19139(39.9584, -75.2375)\"\n",
      "KING MARTIN LUTHER HS,PHILADELPHIA,PA,PHILADELPHIA CITY SD,$786964.00,Transformation,\"6100 STENTON AVEPHILADELPHIA, PA 19138(40.0577, -75.1622)\"\n",
      "DOUGLAS STEPHEN A SCH,PHILADELPHIA,PA,PHILADELPHIA CITY SD,$319320.00,Restart,\"2700 EAST HUNTINGDON STPHILADELPHIA, PA 19125(39.9767, -75.1168)\"\n",
      "LOCKE ALAIN SCH,PHILADELPHIA,PA,PHILADELPHIA CITY SD,$390938.00,Transformation,\"4550 HAVERFORD AVEPHILADELPHIA, PA 19139(39.9625, -75.2136)\"\n",
      "ALCORN JAMES SCH,PHILADELPHIA,PA,PHILADELPHIA CITY SD,$338726.00,Transformation,\"3200 DICKINSON STPHILADELPHIA, PA 19146(39.9354, -75.1973)\"\n",
      "GERMANTOWN HS,PHILADELPHIA,PA,PHILADELPHIA CITY SD,$798792.00,Transformation,\"40 EAST HIGH STPHILADELPHIA, PA 19144(40.0401, -75.1769)\"\n",
      "ROXBOROUGH HS,PHILADELPHIA,PA,PHILADELPHIA CITY SD,$641440.00,Transformation,\"6498 RIDGE AVEPHILADELPHIA, PA 19128(40.0381, -75.2228)\"\n",
      "UNIVERSITY CITY HS,PHILADELPHIA,PA,PHILADELPHIA CITY SD,$923999.00,Turnaround,\"3601 FILBEROUTE STPHILADELPHIA, PA 19104(39.957, -75.1941)\"\n",
      "SMEDLEY FRANKLIN SCH,PHILADELPHIA,PA,PHILADELPHIA CITY SD,$362773.00,Restart,\"1790 BRIDGE STPHILADELPHIA, PA 19124(40.0198, -75.0735)\"\n",
      "WEST PHILADELPHIA HS,PHILADELPHIA,PA,PHILADELPHIA CITY SD,$671142.00,Transformation,\"4700 WALNUT STPHILADELPHIA, PA 19139(39.9557, -75.2157)\"\n",
      "HARRITY WILLIAM F SCH,PHILADELPHIA,PA,PHILADELPHIA CITY SD,$980283.00,Restart,\"5601 CHRISTIAN STPHILADELPHIA, PA 19143(39.9485, -75.2355)\"\n",
      "FRANKFORD HS,PHILADELPHIA,PA,PHILADELPHIA CITY SD,$792001.00,Transformation,\"5000 OXFORD AVEPHILADELPHIA, PA 19124(40.0225, -75.0845)\"\n",
      "VAUX ROBERTS HS,PHILADELPHIA,PA,PHILADELPHIA CITY SD,$466665.00,Turnaround,\"2300 WEST MASTER STPHILADELPHIA, PA 19121(39.9763, -75.1735)\"\n",
      "CLEMENTE ROBERTO MS,PHILADELPHIA,PA,PHILADELPHIA CITY SD,$333327.00,Turnaround,\"122 WEST ERIE AVEPHILADELPHIA, PA 19140(40.0074, -75.1283)\"\n",
      "FELS SAMUEL HS,PHILADELPHIA,PA,PHILADELPHIA CITY SD,$974132.00,Transformation,\"901 DEVEREAUX AVEPHILADELPHIA, PA 19111(40.0417, -75.0883)\"\n",
      "ALLEN DR ETHEL SCH,PHILADELPHIA,PA,PHILADELPHIA CITY SD,$247020.00,Turnaround,\"3200 WEST LEHIGH AVEPHILADELPHIA, PA 19132(39.9977, -75.1836)\"\n",
      "FELTONVILLE INTERMEDIATE SCHOOL,PHILADELPHIA,PA,PHILADELPHIA CITY SD,$244855.00,Transformation,\"4901 RISING SUN AVEPHILADELPHIA, PA 19120(40.0246, -75.1231)\"\n",
      "SOUTH PHILADELPHIA HS,PHILADELPHIA,PA,PHILADELPHIA CITY SD,$579958.00,Transformation,\"2101 SOUTH BRD STPHILADELPHIA, PA 19148(39.9244, -75.1697)\"\n",
      "OLNEY HS WEST,PHILADELPHIA,PA,PHILADELPHIA CITY SD,$272245.00,Transformation,\"100 WEST DUNCANNON AVEPHILADELPHIA, PA 19120(40.0292, -75.1228)\"\n",
      "EDISON HS/FAREIRA SKILLS,PHILADELPHIA,PA,PHILADELPHIA CITY SD,$1.00,Transformation,\"151 WEST LUZERNE STPHILADELPHIA, PA 19140(40.0111, -75.1286)\"\n",
      "STETSON JOHN B MS,PHILADELPHIA,PA,PHILADELPHIA CITY SD,$888708.00,Restart,\"3200 B STPHILADELPHIA, PA 19134(39.9981, -75.1254)\"\n",
      "DAROFF SAMUEL SCH,PHILADELPHIA,PA,PHILADELPHIA CITY SD,$658247.00,Restart,\"5630 VINE STPHILADELPHIA, PA 19139(39.9657, -75.2326)\"\n",
      "BLUFORD GUION EL SCH,PHILADELPHIA,PA,PHILADELPHIA CITY SD,$907129.00,Restart,\"5801 MEDIA STPHILADELPHIA, PA 19131(39.9748, -75.2366)\"\n",
      "CLYMER GEORGE SCH,PHILADELPHIA,PA,PHILADELPHIA CITY SD,$392068.00,Transformation,\"1201 WEST RUSH STPHILADELPHIA, PA 19133(39.9956, -75.1504)\"\n",
      "MANN WILLIAM B SCH,PHILADELPHIA,PA,PHILADELPHIA CITY SD,$794021.00,Restart,\"5376 WEST BERKS STPHILADELPHIA, PA 19131(39.986, -75.2314)\"\n",
      "GRATZ SIMON HS,PHILADELPHIA,PA,PHILADELPHIA CITY SD,$508486.00,Transformation,\"1798 WEST HUNTING PARK AVEPHILADELPHIA, PA 19140(40.0146, -75.1566)\"\n",
      "LINCOLN HS,PHILADELPHIA,PA,PHILADELPHIA CITY SD,$14.00,Transformation,\"3201 RYAN AVEPHILADELPHIA, PA 19136(40.0403, -75.0433)\"\n"
     ]
    }
   ],
   "source": [
    "for record in records:\n",
    "    if \"PHILADELPHIA CITY SD\" in record:\n",
    "        print(record)"
   ]
  },
  {
   "cell_type": "markdown",
   "metadata": {},
   "source": [
    "Need to check the number of fiels in the above list of schools."
   ]
  },
  {
   "cell_type": "code",
   "execution_count": 30,
   "metadata": {},
   "outputs": [
    {
     "data": {
      "text/plain": [
       "{9}"
      ]
     },
     "execution_count": 30,
     "metadata": {},
     "output_type": "execute_result"
    }
   ],
   "source": [
    "fields= set()\n",
    "for record in records:\n",
    "    if \"PHILADELPHIA CITY SD\" in record:\n",
    "        fields.add(len(record.split(\",\")))\n",
    "fields"
   ]
  },
  {
   "cell_type": "markdown",
   "metadata": {},
   "source": [
    "All the record items for Phila School Dist have 9 fields when comma separated.\n",
    "We need to show School and the funding for that school. This fits well with Python Dictionary data structure. We can use that."
   ]
  },
  {
   "cell_type": "code",
   "execution_count": 31,
   "metadata": {},
   "outputs": [
    {
     "name": "stdout",
     "output_type": "stream",
     "text": [
      "{'SCHOOLNAME': [], 'AMOUNT': []}\n"
     ]
    }
   ],
   "source": [
    "funding = {\"SCHOOLNAME\":[], \"AMOUNT\":[]}\n",
    "print(funding)"
   ]
  },
  {
   "cell_type": "code",
   "execution_count": 32,
   "metadata": {},
   "outputs": [
    {
     "data": {
      "text/plain": [
       "{'SCHOOLNAME': ['SAYRE WILLIAM L MS',\n",
       "  'KING MARTIN LUTHER HS',\n",
       "  'DOUGLAS STEPHEN A SCH',\n",
       "  'LOCKE ALAIN SCH',\n",
       "  'ALCORN JAMES SCH',\n",
       "  'GERMANTOWN HS',\n",
       "  'ROXBOROUGH HS',\n",
       "  'UNIVERSITY CITY HS',\n",
       "  'SMEDLEY FRANKLIN SCH',\n",
       "  'WEST PHILADELPHIA HS',\n",
       "  'HARRITY WILLIAM F SCH',\n",
       "  'FRANKFORD HS',\n",
       "  'VAUX ROBERTS HS',\n",
       "  'CLEMENTE ROBERTO MS',\n",
       "  'FELS SAMUEL HS',\n",
       "  'ALLEN DR ETHEL SCH',\n",
       "  'FELTONVILLE INTERMEDIATE SCHOOL',\n",
       "  'SOUTH PHILADELPHIA HS',\n",
       "  'OLNEY HS WEST',\n",
       "  'EDISON HS/FAREIRA SKILLS',\n",
       "  'STETSON JOHN B MS',\n",
       "  'DAROFF SAMUEL SCH',\n",
       "  'BLUFORD GUION EL SCH',\n",
       "  'CLYMER GEORGE SCH',\n",
       "  'MANN WILLIAM B SCH',\n",
       "  'GRATZ SIMON HS',\n",
       "  'LINCOLN HS'],\n",
       " 'AMOUNT': [737032.0,\n",
       "  786964.0,\n",
       "  319320.0,\n",
       "  390938.0,\n",
       "  338726.0,\n",
       "  798792.0,\n",
       "  641440.0,\n",
       "  923999.0,\n",
       "  362773.0,\n",
       "  671142.0,\n",
       "  980283.0,\n",
       "  792001.0,\n",
       "  466665.0,\n",
       "  333327.0,\n",
       "  974132.0,\n",
       "  247020.0,\n",
       "  244855.0,\n",
       "  579958.0,\n",
       "  272245.0,\n",
       "  1.0,\n",
       "  888708.0,\n",
       "  658247.0,\n",
       "  907129.0,\n",
       "  392068.0,\n",
       "  794021.0,\n",
       "  508486.0,\n",
       "  14.0]}"
      ]
     },
     "execution_count": 32,
     "metadata": {},
     "output_type": "execute_result"
    }
   ],
   "source": [
    "funding = {\"SCHOOLNAME\":[], \"AMOUNT\":[]}\n",
    "for record in records:\n",
    "    if \"PHILADELPHIA CITY SD\" in record:\n",
    "        fields=record.split(\",\")\n",
    "        school_name=fields[0]\n",
    "        amount=float(fields[4][1:])\n",
    "        funding[\"SCHOOLNAME\"].append(school_name) \n",
    "        funding[\"AMOUNT\"].append(amount)\n",
    "funding"
   ]
  },
  {
   "cell_type": "markdown",
   "metadata": {},
   "source": [
    "The amount shown here was not a number, but a string. Need to convert to numbers. We can select the amount items read everything after the first charecter ($) and define that as a float."
   ]
  },
  {
   "cell_type": "code",
   "execution_count": 33,
   "metadata": {},
   "outputs": [
    {
     "name": "stdout",
     "output_type": "stream",
     "text": [
      "Mean Funding Amount =  555936.5185185185\n"
     ]
    }
   ],
   "source": [
    "Mean_Funding= sum(funding['AMOUNT'])/len(funding['AMOUNT'])\n",
    "print(\"Mean Funding Amount = \",Mean_Funding)"
   ]
  },
  {
   "cell_type": "code",
   "execution_count": 34,
   "metadata": {},
   "outputs": [
    {
     "name": "stdout",
     "output_type": "stream",
     "text": [
      "NUMBER OF SCHOOLS =  27\n"
     ]
    }
   ],
   "source": [
    "Number_of_Schools=len(funding[\"SCHOOLNAME\"])\n",
    "print(\"NUMBER OF SCHOOLS = \",Number_of_Schools)"
   ]
  },
  {
   "cell_type": "code",
   "execution_count": 35,
   "metadata": {},
   "outputs": [
    {
     "name": "stdout",
     "output_type": "stream",
     "text": [
      "Minimum Funding Amount =  1.0\n"
     ]
    }
   ],
   "source": [
    "Min_Funding= min(funding['AMOUNT'])\n",
    "print(\"Minimum Funding Amount = \",Min_Funding)"
   ]
  },
  {
   "cell_type": "code",
   "execution_count": 36,
   "metadata": {},
   "outputs": [
    {
     "name": "stdout",
     "output_type": "stream",
     "text": [
      "Maximum Funding Amount =  980283.0\n"
     ]
    }
   ],
   "source": [
    "Max_Funding= max(funding['AMOUNT'])\n",
    "print(\"Maximum Funding Amount = \",Max_Funding)"
   ]
  },
  {
   "cell_type": "code",
   "execution_count": 37,
   "metadata": {},
   "outputs": [
    {
     "name": "stdout",
     "output_type": "stream",
     "text": [
      "[737032.0, 786964.0, 319320.0, 390938.0, 338726.0, 798792.0, 641440.0, 923999.0, 362773.0, 671142.0, 980283.0, 792001.0, 466665.0, 333327.0, 974132.0, 247020.0, 244855.0, 579958.0, 272245.0, 1.0, 888708.0, 658247.0, 907129.0, 392068.0, 794021.0, 508486.0, 14.0]\n"
     ]
    }
   ],
   "source": [
    "amounts=funding[\"AMOUNT\"]\n",
    "print(amounts)"
   ]
  },
  {
   "cell_type": "code",
   "execution_count": 38,
   "metadata": {},
   "outputs": [
    {
     "name": "stdout",
     "output_type": "stream",
     "text": [
      "555936.5185185185\n"
     ]
    }
   ],
   "source": [
    "print(Mean_Funding)"
   ]
  },
  {
   "cell_type": "code",
   "execution_count": 39,
   "metadata": {},
   "outputs": [
    {
     "data": {
      "text/plain": [
       "27"
      ]
     },
     "execution_count": 39,
     "metadata": {},
     "output_type": "execute_result"
    }
   ],
   "source": [
    "len(amounts)"
   ]
  },
  {
   "cell_type": "code",
   "execution_count": 40,
   "metadata": {},
   "outputs": [
    {
     "name": "stdout",
     "output_type": "stream",
     "text": [
      "2158816173644.7407\n"
     ]
    }
   ],
   "source": [
    "def variance (item):\n",
    "       return (sum([(x - Mean_Funding) ** 2 for x in item]))\n",
    "var = variance (funding['AMOUNT'])\n",
    "print(var)\n"
   ]
  },
  {
   "cell_type": "code",
   "execution_count": 41,
   "metadata": {},
   "outputs": [
    {
     "name": "stdout",
     "output_type": "stream",
     "text": [
      "Standard Deviation=  282765.19336621836\n"
     ]
    }
   ],
   "source": [
    "SD= (var/(len(amounts)))**0.5\n",
    "print(\"Standard Deviation= \",SD)"
   ]
  },
  {
   "cell_type": "code",
   "execution_count": 45,
   "metadata": {},
   "outputs": [
    {
     "name": "stdout",
     "output_type": "stream",
     "text": [
      "32795573413.009594\n",
      "53373697199.67626\n",
      "55987376835.824425\n",
      "27224511113.305904\n",
      "47180409355.08369\n",
      "58978784885.60219\n",
      "7310845345.454043\n",
      "135469990274.30588\n",
      "37312144886.454056\n",
      "13272302963.379967\n",
      "180069936345.7133\n",
      "55726439417.120705\n",
      "7969404018.602199\n",
      "49554997735.046646\n",
      "174887460731.5281\n",
      "95429415413.6022\n",
      "96771711163.7874\n",
      "577031572.5651567\n",
      "80480877679.34294\n",
      "309064300750.45404\n",
      "110736858887.37996\n",
      "10467434620.97256\n",
      "123336159049.1207\n",
      "26852891361.454052\n",
      "56684220322.305885\n",
      "2251551707.676271\n",
      "309049846595.9726\n"
     ]
    }
   ],
   "source": [
    "for x in amounts:\n",
    "    print((x-Mean_Funding)**2)"
   ]
  },
  {
   "cell_type": "code",
   "execution_count": null,
   "metadata": {},
   "outputs": [],
   "source": []
  }
 ],
 "metadata": {
  "kernelspec": {
   "display_name": "Python 3",
   "language": "python",
   "name": "python3"
  },
  "language_info": {
   "codemirror_mode": {
    "name": "ipython",
    "version": 3
   },
   "file_extension": ".py",
   "mimetype": "text/x-python",
   "name": "python",
   "nbconvert_exporter": "python",
   "pygments_lexer": "ipython3",
   "version": "3.6.5"
  }
 },
 "nbformat": 4,
 "nbformat_minor": 2
}
